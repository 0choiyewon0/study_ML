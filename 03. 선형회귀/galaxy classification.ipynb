{
 "cells": [
  {
   "cell_type": "markdown",
   "metadata": {},
   "source": [
    "---\n",
    "\n",
    "# 은하계 분류\n",
    "\n",
    "1. 문제 설명\n",
    "\n",
    "Spiral 은하는 일반적으로 알려진 나선 형태의 은하를 의미합니다.\n",
    "Edge 은하는 나선 은하지만 관측 방향에 의해 뾰족한 형태를 띄는 은하를 의미합니다.\n",
    "Smooth 은하는 은하 디스크의 두께가 얇지 않고 두껍게 보이는 은하를 의미합니다\n",
    "학생 여러분의 편의를 위해 각 은하계 사진은 1D Feature 로 가공되어 제공합니다. 지금부터 간략하게 설명할 2D 영상을 1D로 표현하기 위한 방법은 기계학습 수업의 범주를 벗어나오니 참고만 하시기 바랍니다.\n",
    "각 사진은 ImageNet으로 pretrain된 VGG16을 활용하여 1-Dim 의 벡터로 제공됩니다. 이 벡터는 종단 두 개의 FC Layer를 통해 나온 4,096 차원의 벡터에 PCA를 사용해 64차원으로 가공되어 제공됩니다.\n",
    "학습 데이터는 총 6,000개, 평가 데이터는 총 1,500개이며 학습데이터에 해당되는 분류 정보도 같이 제공됩니다.\n",
    "\n",
    "\n",
    "\n",
    "2. 데이터 셋 구성\n",
    "    - train_desc_pca.csv : vgg16과 pca로 기술된 학습 데이터 (행 : 각 은하계 사진의 인덱스, 열 : 기술된 벡터의 각 차원)\n",
    "    - test_desc_pca.csv : vgg16과 pca로 기술된 평가 데이터 (행 : 각 은하계 사진의 인덱스, 열 : 기술된 벡터의 각 차원)\n",
    "    - train_label.csv : 학습 데이터에 해당하는 분류 정보 (Id : 각 은하계 사진의 인덱스, Category : 분류 정보[edge, smooth, spiral])\n",
    "    - sample_galaxy.csv : 샘플 데이터"
   ]
  },
  {
   "cell_type": "code",
   "execution_count": 1,
   "metadata": {},
   "outputs": [
    {
     "name": "stdout",
     "output_type": "stream",
     "text": [
      "(6000, 64)\n",
      "(1500, 64)\n",
      "(6000, 2)\n",
      "           0          1          2          3         4         5          6  \\\n",
      "0  13.934082  -3.077109 -13.515020  -0.844135  3.097763  0.154635   5.615488   \n",
      "1  18.757893  -0.304454   1.757282  10.702372  5.530047 -9.571358   9.296905   \n",
      "2  -8.063476  -3.259291 -16.577340  -5.497738 -6.616893  4.916349 -10.537728   \n",
      "3   3.128894  16.911400 -10.434631   1.177685  3.228336 -1.875124   8.374058   \n",
      "4 -15.744248  -1.022630   0.004898   6.656867 -2.534440 -8.309071  -1.379100   \n",
      "\n",
      "          7         8         9  ...        54        55        56        57  \\\n",
      "0 -8.032149  2.776431  1.469208  ... -0.834850  0.474123 -1.481585 -2.168011   \n",
      "1 -2.858612  0.027188  3.768508  ...  0.941480  1.776686  0.905478 -1.641744   \n",
      "2  5.398572 -1.091936 -2.561823  ...  1.976522 -0.962800 -0.409117  0.497765   \n",
      "3 -0.885263  5.068379 -6.400661  ...  1.624901  0.775439  3.694294  0.438467   \n",
      "4  4.352854  8.783724  2.650707  ...  0.231652 -1.151704  0.354604  0.752026   \n",
      "\n",
      "         58        59        60        61        62        63  \n",
      "0 -0.472213  1.542271  0.356707  0.530720  0.171594 -0.322960  \n",
      "1  0.734237  1.231368  0.179600  1.700099 -0.001509  1.077432  \n",
      "2  1.440391 -0.513098 -0.477530  2.724299 -0.663966 -1.755266  \n",
      "3 -0.148669  0.227370  3.004657  0.440074 -0.087064  1.925870  \n",
      "4 -1.192524 -0.910384  1.549595 -2.284629  0.672590 -0.606422  \n",
      "\n",
      "[5 rows x 64 columns]\n",
      "           0          1          2          3          4          5         6  \\\n",
      "0 -14.238203 -15.670372 -12.266742   8.772731  -1.062115  12.313971  5.447355   \n",
      "1 -11.216001  15.657775  -1.080561  10.588281   1.698980   0.221580  0.651915   \n",
      "2  19.227375 -13.398582   6.344983   0.673839   2.338009  -2.120842  5.539773   \n",
      "3 -12.524920   9.557715  15.283616   1.440119   1.804742  -3.472384  2.337877   \n",
      "4  15.702551   9.524783 -16.462688  -5.936708 -11.013749   2.756393 -7.259588   \n",
      "\n",
      "           7         8         9  ...        54        55        56        57  \\\n",
      "0 -10.486055 -1.319069  1.412028  ... -1.526661 -0.031426 -0.351120  0.926840   \n",
      "1   2.617677 -7.410492  2.398025  ... -2.074036  0.779153  0.752769 -1.249239   \n",
      "2   7.779192  1.380348 -1.728367  ...  0.113740 -0.441069  1.053713 -1.845533   \n",
      "3  -2.322144  1.910832 -4.620938  ... -0.671643  0.078542  0.172880 -1.075137   \n",
      "4  -3.768883 -3.980812  3.195737  ... -0.195311  1.171689  0.563731 -0.960047   \n",
      "\n",
      "         58        59        60        61        62        63  \n",
      "0 -1.687954 -1.666352 -1.295853 -0.757767 -1.793229 -1.617771  \n",
      "1 -0.982266  0.347240 -1.616450  0.859141 -0.279321  0.024584  \n",
      "2 -1.311030 -1.594242 -0.743165 -0.533958  0.417801 -1.707941  \n",
      "3  0.725919 -1.553811 -0.787675  0.873334 -1.319784 -0.432190  \n",
      "4 -0.908781  0.250107 -0.578281  0.579105 -0.327169  0.806069  \n",
      "\n",
      "[5 rows x 64 columns]\n",
      "   Id Category\n",
      "0   0     edge\n",
      "1   1     edge\n",
      "2   2     edge\n",
      "3   3     edge\n",
      "4   4     edge\n"
     ]
    }
   ],
   "source": [
    "import pandas as pd\n",
    "sample = pd.read_csv(\"sample_galaxy.csv\" , engine='python')\n",
    "X_train = pd.read_csv(\"train_galaxy_desc_pca.csv\" , engine='python')\n",
    "X_test = pd.read_csv(\"test_galaxy_desc_pca.csv\" , engine='python')\n",
    "\n",
    "y_train = pd.read_csv(\"train_galaxy_label.csv\" , engine='python')\n",
    "\n",
    "print(X_train.shape)\n",
    "print(X_test.shape)\n",
    "print(y_train.shape)\n",
    "\n",
    "print(X_train.head())\n",
    "print(X_test.head())\n",
    "print(y_train.head())"
   ]
  },
  {
   "cell_type": "markdown",
   "metadata": {},
   "source": [
    " ---\n",
    " \n",
    " # 필요 없는 데이터 제거\n",
    " "
   ]
  },
  {
   "cell_type": "code",
   "execution_count": 2,
   "metadata": {},
   "outputs": [],
   "source": [
    "y_train = y_train['Category']"
   ]
  },
  {
   "cell_type": "markdown",
   "metadata": {},
   "source": [
    "# 로지스틱 회귀\n",
    "\n",
    "1. Logistic Regression 함수의 solver에 대한 정리\n",
    "    - ‘newton-cg’ : L2 규제 또는 규제 없음\n",
    "    - ‘lbfgs’ : L2 규제 또는 규제 없음\n",
    "    - ‘liblinear’ : L2 규제 \n",
    "    - ‘sag’ : L2 규제 또는 규제 없음\n",
    "    - ‘saga’ : L1 규제 또는 규제 없음 , elasticnet 규제에도 이용\n",
    "    - default값은 ’lbfgs’  : L2 규제 또는 규제 없음\n",
    "\n",
    " "
   ]
  },
  {
   "cell_type": "code",
   "execution_count": 13,
   "metadata": {},
   "outputs": [],
   "source": [
    "from sklearn.linear_model import LogisticRegression\n",
    "from sklearn.metrics import accuracy_score"
   ]
  },
  {
   "cell_type": "code",
   "execution_count": 5,
   "metadata": {},
   "outputs": [
    {
     "name": "stderr",
     "output_type": "stream",
     "text": [
      "/Users/choiyewon/opt/anaconda3/lib/python3.8/site-packages/sklearn/linear_model/_logistic.py:763: ConvergenceWarning: lbfgs failed to converge (status=1):\n",
      "STOP: TOTAL NO. of ITERATIONS REACHED LIMIT.\n",
      "\n",
      "Increase the number of iterations (max_iter) or scale the data as shown in:\n",
      "    https://scikit-learn.org/stable/modules/preprocessing.html\n",
      "Please also refer to the documentation for alternative solver options:\n",
      "    https://scikit-learn.org/stable/modules/linear_model.html#logistic-regression\n",
      "  n_iter_i = _check_optimize_result(\n"
     ]
    }
   ],
   "source": [
    "rg = LogisticRegression().fit(X_train, y_train)"
   ]
  },
  {
   "cell_type": "code",
   "execution_count": 16,
   "metadata": {},
   "outputs": [],
   "source": [
    "rg = LogisticRegression(solver='saga').fit(X_train, y_train)\n",
    "y_test_pred = rg.predict(X_test)\n"
   ]
  },
  {
   "cell_type": "code",
   "execution_count": 17,
   "metadata": {},
   "outputs": [],
   "source": [
    "sample['Category'] = y_test_pred\n",
    "sample.to_csv(\"complete_galaxy.csv\", index= False)"
   ]
  },
  {
   "cell_type": "code",
   "execution_count": null,
   "metadata": {},
   "outputs": [],
   "source": []
  }
 ],
 "metadata": {
  "kernelspec": {
   "display_name": "Python 3",
   "language": "python",
   "name": "python3"
  },
  "language_info": {
   "codemirror_mode": {
    "name": "ipython",
    "version": 3
   },
   "file_extension": ".py",
   "mimetype": "text/x-python",
   "name": "python",
   "nbconvert_exporter": "python",
   "pygments_lexer": "ipython3",
   "version": "3.8.5"
  }
 },
 "nbformat": 4,
 "nbformat_minor": 4
}
