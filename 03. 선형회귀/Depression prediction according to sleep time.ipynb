{
 "cells": [
  {
   "cell_type": "markdown",
   "metadata": {},
   "source": [
    "---\n",
    "\n",
    "# 수면시간에 따른 우울증 예측\n",
    "\n",
    "1. 문제 설명\n",
    "\n",
    "본 데이터셋은 다트머스대학교 학생들을 대상으로 일정기간동안 학생들에게 스마트폰 센서 데이터와 다양한 설문조사 결과를 포함하고 있습니다. 그 중 본 실습문제에서는 학생들이 응답한 '수면시간 및 수면의 질' 관련 설문조사와 'PHQ-9' 설문조사를 사용할 예정이며, 이를 통해 수면시간 및 수면의 질을 통해서 우울증의 유무를 판단할 예정입니다. 본 데이터셋을 제공한 연구팀은 학생들에게 수면과 관련해 다음과 같은 질문을 진행하였습니다.\n",
    "\n",
    "    A. \"How many hours did you sleep last night? \"\n",
    "    B. \"How would rate your overall sleep last night?\"\n",
    "그리고 이러한 질문에 대해서 학생들은 설치된 어플리케이션을 통해서 설문조사에 응하였고, 이와 관련된 데이터셋의 자세한 내용은 Student Life Dataset 에서 확인할 수 있습니다. 본 문제에서는 사전에 이러한 설문조사 응답에 대해서 전처리를 진행하였고, 학생들의 수면의 시간, 수면의 질에 대한 응답에 대해서 Pandas에서 제공하는 describe 함수를 이용해 feature를 설계하였습니다.\n",
    "\n",
    "따라서 여러분은 추가적인 데이터 전처리 없이 제공되는 Feature를 기존에 머신러닝 방법을 통해서 학습하고, 평가를 수행하면 됩니다. Feature에 대한 자세한 설명은 Data를 참고하세요.\n",
    "\n",
    "\n",
    "\n",
    "\n",
    "\n",
    "2. 데이터 셋 구성\n",
    "    - train_X,test_X : 수면관련(수면의 양/수면의 질) Feature(14개)\n",
    "sleep_time_mean\n",
    "sleep_time_std\n",
    "sleep_time_min\n",
    "sleep_time_25\n",
    "sleep_time_50\n",
    "sleep_time_75\n",
    "sleep_time_max\n",
    "sleep_quality_mean\n",
    "sleep_quality_std\n",
    "sleep_quality_min\n",
    "sleep_quality_25\n",
    "sleep_quality_50\n",
    "sleep_quality_75\n",
    "sleep_quality_max\n",
    "\n",
    "   - train_Y : 우울증 유/무를 표기\n",
    "0 : PHQ 9 종합 점수 5점이하\n",
    "1 : PHQ 9 종합 점수 6점이상\n",
    "sample_submit : 제출을 위한 양식"
   ]
  },
  {
   "cell_type": "code",
   "execution_count": 1,
   "metadata": {},
   "outputs": [
    {
     "name": "stdout",
     "output_type": "stream",
     "text": [
      "(23, 14)\n",
      "(23, 14)\n",
      "(23, 1)\n",
      "   sleep_time_mean  sleep_time_std  sleep_time_min  sleep_time_25  \\\n",
      "0         6.250000        0.689202             5.0          6.125   \n",
      "1         6.418182        1.169693             3.0          6.000   \n",
      "2         7.034483        1.127262             5.5          6.500   \n",
      "3         6.453846        1.070642             3.0          6.000   \n",
      "4         5.902439        1.817345             3.5          4.500   \n",
      "\n",
      "   sleep_time_50  sleep_time_75  sleep_time_max  sleep_quality_mean  \\\n",
      "0            6.5           6.50             7.0            3.500000   \n",
      "1            6.5           6.75             9.5            3.345455   \n",
      "2            6.5           8.00            11.0            3.862069   \n",
      "3            6.5           7.00             9.0            3.061538   \n",
      "4            5.5           7.00            10.0            2.975610   \n",
      "\n",
      "   sleep_quality_std  sleep_quality_min  sleep_quality_25  sleep_quality_50  \\\n",
      "0           0.836660                2.0              3.25               4.0   \n",
      "1           0.672700                1.0              3.00               3.0   \n",
      "2           0.347839                3.0              4.00               4.0   \n",
      "3           0.768052                1.0              3.00               3.0   \n",
      "4           0.961452                1.0              2.00               3.0   \n",
      "\n",
      "   sleep_quality_75  sleep_quality_max  \n",
      "0               4.0                4.0  \n",
      "1               4.0                4.0  \n",
      "2               4.0                4.0  \n",
      "3               4.0                4.0  \n",
      "4               4.0                4.0  \n",
      "   sleep_time_mean  sleep_time_std  sleep_time_min  sleep_time_25  \\\n",
      "0         6.574468        1.202257             3.0           6.00   \n",
      "1         5.233333        1.293758             3.5           4.25   \n",
      "2         5.980000        0.620484             4.5           5.50   \n",
      "3         5.735294        0.430562             5.0           5.50   \n",
      "4         6.423077        0.832974             5.0           6.00   \n",
      "\n",
      "   sleep_time_50  sleep_time_75  sleep_time_max  sleep_quality_mean  \\\n",
      "0            6.5           7.00            10.0            2.659574   \n",
      "1            5.0           5.75             8.5            2.375000   \n",
      "2            6.0           6.50             7.0            3.560000   \n",
      "3            5.5           6.00             6.5            2.941176   \n",
      "4            6.5           6.50             8.0            3.384615   \n",
      "\n",
      "   sleep_quality_std  sleep_quality_min  sleep_quality_25  sleep_quality_50  \\\n",
      "0           0.599877                1.0               2.0               3.0   \n",
      "1           1.147461                1.0               1.0               2.5   \n",
      "2           0.711805                2.0               3.0               4.0   \n",
      "3           0.547234                2.0               3.0               3.0   \n",
      "4           0.803837                2.0               3.0               4.0   \n",
      "\n",
      "   sleep_quality_75  sleep_quality_max  \n",
      "0               3.0                4.0  \n",
      "1               3.0                4.0  \n",
      "2               4.0                4.0  \n",
      "3               3.0                4.0  \n",
      "4               4.0                4.0  \n",
      "   label\n",
      "0      0\n",
      "1      0\n",
      "2      0\n",
      "3      1\n",
      "4      0\n"
     ]
    }
   ],
   "source": [
    "import pandas as pd\n",
    "sample = pd.read_csv(\"sample_depression.csv\" , engine='python')\n",
    "X_train = pd.read_csv(\"train_depression_X.csv\" , engine='python')\n",
    "X_test = pd.read_csv(\"test_depression_X.csv\" , engine='python')\n",
    "\n",
    "y_train = pd.read_csv(\"train_depression_Y.csv\" , engine='python')\n",
    "\n",
    "print(X_train.shape)\n",
    "print(X_test.shape)\n",
    "print(y_train.shape)\n",
    "\n",
    "print(X_train.head())\n",
    "print(X_test.head())\n",
    "print(y_train.head())"
   ]
  },
  {
   "cell_type": "markdown",
   "metadata": {},
   "source": [
    "# 로지스틱 회귀\n"
   ]
  },
  {
   "cell_type": "code",
   "execution_count": 3,
   "metadata": {},
   "outputs": [],
   "source": [
    "from sklearn.linear_model import LogisticRegression\n",
    "from sklearn.metrics import accuracy_score"
   ]
  },
  {
   "cell_type": "code",
   "execution_count": 4,
   "metadata": {},
   "outputs": [
    {
     "name": "stderr",
     "output_type": "stream",
     "text": [
      "/Users/choiyewon/opt/anaconda3/lib/python3.8/site-packages/sklearn/utils/validation.py:63: DataConversionWarning: A column-vector y was passed when a 1d array was expected. Please change the shape of y to (n_samples, ), for example using ravel().\n",
      "  return f(*args, **kwargs)\n"
     ]
    }
   ],
   "source": [
    "rg = LogisticRegression().fit(X_train, y_train)\n",
    "y_test_pred = rg.predict(X_test)\n"
   ]
  },
  {
   "cell_type": "code",
   "execution_count": 5,
   "metadata": {},
   "outputs": [],
   "source": [
    "sample['label'] = y_test_pred\n",
    "sample.to_csv(\"complete_depression.csv\", index= False)"
   ]
  },
  {
   "cell_type": "code",
   "execution_count": null,
   "metadata": {},
   "outputs": [],
   "source": []
  }
 ],
 "metadata": {
  "kernelspec": {
   "display_name": "Python 3",
   "language": "python",
   "name": "python3"
  },
  "language_info": {
   "codemirror_mode": {
    "name": "ipython",
    "version": 3
   },
   "file_extension": ".py",
   "mimetype": "text/x-python",
   "name": "python",
   "nbconvert_exporter": "python",
   "pygments_lexer": "ipython3",
   "version": "3.8.5"
  }
 },
 "nbformat": 4,
 "nbformat_minor": 4
}
