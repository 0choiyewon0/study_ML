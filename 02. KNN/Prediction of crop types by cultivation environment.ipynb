{
 "cells": [
  {
   "cell_type": "markdown",
   "metadata": {},
   "source": [
    "---\n",
    "\n",
    "# 재배환경 별 작물 종류 예측\n",
    "\n",
    "1. 문제 설명\n",
    "\n",
    "    - 이상 기후, 온난화등의 문제로 기상 변화 문제로 농업의 생태계는 다양한 변화를 맞이하고 있습니다. 기후를 통제하여 안정적인 생산력을 유지하는 스마트팜과 더불어 변화하는 환경에 맞추어 적절한 작물을 찾는 시도도 필요하며, 본 과제를 통해 이러한 요구를 해결하고자 합니다. 데이터는 다음의 정보를 포함합니다. 주어진 환경정보를 통해 환경에 적합한 작물을 예측해봅시다.\n",
    "\n",
    "\n",
    "2. 데이터 셋 구성\n",
    "    - N - 토양 내 질소 함량 비율\n",
    "    - P - 토양 내 인산 함량 비율\n",
    "    - K - 토양 내 칼륨 함량 비율\n",
    "    - temperature - 섭씨 온도\n",
    "    - humidity - 상대 습도(%)\n",
    "    - ph - 토양의 ph 값\n",
    "    - rainfall - 강우량 (mm)"
   ]
  },
  {
   "cell_type": "markdown",
   "metadata": {},
   "source": [
    "---\n",
    "# sample, train, test 데이터 불러오고 형태 파악\n",
    "\n",
    "- test, train 데이터 불러오기\n",
    "- train데이터에서 정답인 label값을 y로 학습을 통해 훈련시킬 label을 제외한 값을 X로 지정"
   ]
  },
  {
   "cell_type": "code",
   "execution_count": 45,
   "metadata": {
    "scrolled": true
   },
   "outputs": [
    {
     "name": "stdout",
     "output_type": "stream",
     "text": [
      "(1650, 8)\n",
      "(550, 7)\n",
      "    N    P    K  temperature   humidity        ph    rainfall        label\n",
      "0  22   36   16    30.581395  50.771481  8.184229   64.585596    mothbeans\n",
      "1  18   27   41    22.365094  92.308824  7.175344  104.821633  pomegranate\n",
      "2  61   68   50    35.214628  91.497251  6.793245  243.074507       papaya\n",
      "3  26   72   22    28.767949  37.577921  4.674942   91.720849   pigeonpeas\n",
      "4   2  140  197    22.697801  92.822234  5.534567  105.050823        apple\n",
      "     N    P    K  temperature   humidity        ph    rainfall\n",
      "0  101   17   47    29.494014  94.729813  6.185053   26.308209\n",
      "1   98    8   51    26.179346  86.522581  6.259336   49.430510\n",
      "2   59   62   49    43.360515  93.351916  6.941497  114.778071\n",
      "3   44   60   55    34.280461  90.555616  6.825371   98.540477\n",
      "4   30  137  200    22.914300  90.704756  5.603413  118.604465\n"
     ]
    }
   ],
   "source": [
    "import pandas as pd\n",
    "sample = pd.read_csv(\"sample_croptype.csv\" , engine='python')\n",
    "train = pd.read_csv(\"train_croptype.csv\" , engine='python')\n",
    "test = pd.read_csv(\"test_croptype.csv\" , engine='python')\n",
    "\n",
    "print(train.shape)\n",
    "print(test.shape)\n",
    "\n",
    "print(train.head())\n",
    "print(test.head())"
   ]
  },
  {
   "cell_type": "code",
   "execution_count": 46,
   "metadata": {},
   "outputs": [
    {
     "name": "stdout",
     "output_type": "stream",
     "text": [
      "(1650, 8)\n",
      "(1650, 7)\n",
      "(1650,)\n"
     ]
    }
   ],
   "source": [
    "print(train.shape)\n",
    "X = train.drop('label', axis=1)\n",
    "y = train['label']\n",
    "print(X.shape)\n",
    "print(y.shape)"
   ]
  },
  {
   "cell_type": "markdown",
   "metadata": {},
   "source": [
    "---\n",
    "# 데이터 카테고리의 실수화 진행\n",
    "\n",
    "- 구해야할 카테고리가 범수형 이므로 LabelEncoder 클래스 사용\n",
    "- label에는 22가지의 식물이 구별되어 있음"
   ]
  },
  {
   "cell_type": "code",
   "execution_count": 47,
   "metadata": {},
   "outputs": [
    {
     "name": "stdout",
     "output_type": "stream",
     "text": [
      "species labels :  [ 0  1  2  3  4  5  6  7  8  9 10 11 12 13 14 15 16 17 18 19 20 21]\n",
      "species :  ['apple' 'banana' 'blackgram' 'chickpea' 'coconut' 'coffee' 'cotton'\n",
      " 'grapes' 'jute' 'kidneybeans' 'lentil' 'maize' 'mango' 'mothbeans'\n",
      " 'mungbean' 'muskmelon' 'orange' 'papaya' 'pigeonpeas' 'pomegranate'\n",
      " 'rice' 'watermelon']\n"
     ]
    }
   ],
   "source": [
    "from sklearn.preprocessing import LabelEncoder\n",
    "import numpy as np\n",
    "\n",
    "classle = LabelEncoder()\n",
    "\n",
    "y = classle.fit_transform(train['label'].values)\n",
    "\n",
    "print('species labels : ', np.unique(y))\n",
    "\n",
    "yo = classle.inverse_transform(y)\n",
    "print('species : ', np.unique(yo))"
   ]
  },
  {
   "cell_type": "markdown",
   "metadata": {},
   "source": [
    "# 데이터 분할을 통해 train, test 분할\n",
    "\n",
    "-  train_test_split을 통하여 default 구성으로 분류\n",
    "- 분류 후 분류된 형태 출력 및 확인\n"
   ]
  },
  {
   "cell_type": "code",
   "execution_count": 48,
   "metadata": {},
   "outputs": [
    {
     "name": "stdout",
     "output_type": "stream",
     "text": [
      "(1155, 7)\n",
      "(495, 7)\n",
      "(1155,)\n",
      "(495,)\n"
     ]
    }
   ],
   "source": [
    "from sklearn.model_selection import train_test_split\n",
    "\n",
    "X_train, X_test, y_train, y_test = train_test_split(X,y, test_size=0.3, random_state=1, stratify=y)  \n",
    "\n",
    "print(X_train.shape)\n",
    "print(X_test.shape)\n",
    "print(y_train.shape)\n",
    "print(y_test.shape)\n",
    "\n"
   ]
  },
  {
   "cell_type": "markdown",
   "metadata": {},
   "source": [
    "---\n",
    "# 데이터 표준화"
   ]
  },
  {
   "cell_type": "code",
   "execution_count": 49,
   "metadata": {},
   "outputs": [
    {
     "name": "stdout",
     "output_type": "stream",
     "text": [
      "       N    P    K  temperature   humidity        ph    rainfall\n",
      "863   10  140  197    22.169395  90.271856  6.229499  124.468311\n",
      "860   93   58   38    20.615214  83.773456  6.932400  279.545172\n",
      "1386   2   30   30    26.001751  94.799984  6.331052  209.540094\n",
      "912   40   29   42    24.632287  89.015745  7.104095  110.695618\n",
      "1108  30   63   16    23.605066  21.905396  5.525905  100.597873\n"
     ]
    },
    {
     "data": {
      "text/plain": [
       "array([[ 1.13103497,  0.13350767, -0.19597669, -0.95897667,  0.55161693,\n",
       "         0.59631103,  3.16862127],\n",
       "       [-1.31253901, -0.71077038, -0.35256823,  0.10062451,  1.0552656 ,\n",
       "        -0.17256517,  1.9116191 ],\n",
       "       [-0.29214548, -0.74092317, -0.11768092, -0.16876672,  0.79106418,\n",
       "         0.8158376 ,  0.1367804 ],\n",
       "       [-0.56067009,  0.2842716 , -0.62660343, -0.37083439, -2.2742739 ,\n",
       "        -1.20201565, -0.04453342]])"
      ]
     },
     "execution_count": 49,
     "metadata": {},
     "output_type": "execute_result"
    }
   ],
   "source": [
    "from sklearn.preprocessing import StandardScaler\n",
    "\n",
    "sc = StandardScaler()\n",
    "sc.fit(X_train)\n",
    "\n",
    "X_train_std = sc.transform(X_train)\n",
    "X_test_std = sc.transform(X_test)\n",
    "\n",
    "print(X_train.head())\n",
    "X_train_std[1:5,]\n"
   ]
  },
  {
   "cell_type": "markdown",
   "metadata": {},
   "source": [
    "---\n",
    "# 모델 추정 및 사례중심 학습"
   ]
  },
  {
   "cell_type": "code",
   "execution_count": 50,
   "metadata": {},
   "outputs": [
    {
     "data": {
      "text/plain": [
       "KNeighborsClassifier()"
      ]
     },
     "execution_count": 50,
     "metadata": {},
     "output_type": "execute_result"
    }
   ],
   "source": [
    "from sklearn.neighbors import KNeighborsClassifier\n",
    "knn =KNeighborsClassifier(n_neighbors =5, p=2)\n",
    "knn.fit(X_train_std, y_train)"
   ]
  },
  {
   "cell_type": "code",
   "execution_count": 51,
   "metadata": {},
   "outputs": [
    {
     "name": "stdout",
     "output_type": "stream",
     "text": [
      "Misclassified training samples: 17\n",
      "Misclassified test samples: 19\n"
     ]
    }
   ],
   "source": [
    "y_train_pred = knn.predict(X_train_std)\n",
    "\n",
    "y_test_pred = knn.predict(X_test_std)\n",
    "print('Misclassified training samples: %d' %(y_train!=y_train_pred).sum()) #오분류 데이터 갯수 확인\n",
    "print('Misclassified test samples: %d' %(y_test!=y_test_pred).sum()) #오분류 데이터 갯수 확인"
   ]
  },
  {
   "cell_type": "markdown",
   "metadata": {},
   "source": [
    "---\n",
    "# 결과 분석\n"
   ]
  },
  {
   "cell_type": "code",
   "execution_count": 52,
   "metadata": {},
   "outputs": [
    {
     "name": "stdout",
     "output_type": "stream",
     "text": [
      "0.9616161616161616\n"
     ]
    }
   ],
   "source": [
    "from sklearn.metrics import accuracy_score\n",
    "print(accuracy_score(y_test, y_test_pred))"
   ]
  },
  {
   "cell_type": "code",
   "execution_count": 53,
   "metadata": {},
   "outputs": [
    {
     "name": "stdout",
     "output_type": "stream",
     "text": [
      "[[21  0  0  0  0  0  0  0  0  0  0  0  0  0  0  0  0  0  0  0  0  0]\n",
      " [ 0 23  0  0  0  0  0  0  0  0  0  0  0  0  0  0  0  0  0  0  0  0]\n",
      " [ 0  0 22  0  0  0  0  0  0  0  1  0  0  0  0  0  0  0  0  0  0  0]\n",
      " [ 0  0  0 21  0  0  0  0  0  0  0  0  0  0  0  0  0  0  0  0  0  0]\n",
      " [ 0  0  0  0 22  0  0  0  0  0  0  0  0  0  0  0  0  0  0  0  0  0]\n",
      " [ 0  0  0  0  0 22  0  0  0  0  0  0  0  0  0  0  0  0  0  0  0  0]\n",
      " [ 0  0  0  0  0  0 24  0  0  0  0  0  0  0  0  0  0  0  0  0  0  0]\n",
      " [ 0  0  0  0  0  0  0 24  0  0  0  0  0  0  0  0  0  0  0  0  0  0]\n",
      " [ 0  0  0  0  0  0  0  0 22  0  0  0  0  0  0  0  0  0  0  0  0  0]\n",
      " [ 0  0  0  0  0  0  0  0  0 23  0  0  0  0  0  0  0  0  0  0  0  0]\n",
      " [ 0  0  1  0  0  0  0  0  0  0 24  0  0  0  0  0  0  0  0  0  0  0]\n",
      " [ 0  0  0  0  0  0  1  0  0  0  0 22  0  0  0  0  0  0  0  0  0  0]\n",
      " [ 0  0  0  0  0  0  0  0  0  0  0  0 22  0  0  0  0  0  0  0  0  0]\n",
      " [ 0  0  2  0  0  0  0  0  0  0  1  0  0 19  0  0  0  0  0  0  0  0]\n",
      " [ 0  0  0  0  0  0  0  0  0  0  0  0  0  0 22  0  0  0  0  0  0  0]\n",
      " [ 0  0  0  0  0  0  0  0  0  0  0  0  0  0  0 23  0  0  0  0  0  0]\n",
      " [ 0  0  0  0  0  0  0  0  0  0  0  0  0  0  0  0 22  0  0  2  0  0]\n",
      " [ 0  0  0  0  0  0  0  0  0  0  0  0  0  0  5  0  0 16  0  0  0  0]\n",
      " [ 0  0  0  0  0  0  0  0  0  0  0  0  1  0  0  0  0  0 19  0  0  0]\n",
      " [ 0  0  0  0  0  0  0  0  0  0  0  0  0  0  0  0  0  0  0 21  0  0]\n",
      " [ 0  0  0  0  0  0  0  0  5  0  0  0  0  0  0  0  0  0  0  0 18  0]\n",
      " [ 0  0  0  0  0  0  0  0  0  0  0  0  0  0  0  0  0  0  0  0  0 24]]\n"
     ]
    }
   ],
   "source": [
    "from sklearn.metrics import confusion_matrix\n",
    "conf=confusion_matrix(y_true=y_test,y_pred=y_test_pred) \n",
    "print(conf)"
   ]
  },
  {
   "cell_type": "markdown",
   "metadata": {},
   "source": [
    "---\n",
    "# 표준화 처리 없이 하면\n"
   ]
  },
  {
   "cell_type": "code",
   "execution_count": 54,
   "metadata": {},
   "outputs": [
    {
     "data": {
      "text/plain": [
       "KNeighborsClassifier()"
      ]
     },
     "execution_count": 54,
     "metadata": {},
     "output_type": "execute_result"
    }
   ],
   "source": [
    "knn.fit(X_train, y_train)"
   ]
  },
  {
   "cell_type": "code",
   "execution_count": 55,
   "metadata": {},
   "outputs": [
    {
     "name": "stdout",
     "output_type": "stream",
     "text": [
      "Misclassified training samples: 12\n",
      "Misclassified test samples: 11\n"
     ]
    }
   ],
   "source": [
    "y_train_pred=knn.predict(X_train) \n",
    "y_test_pred=knn.predict(X_test)  \n",
    "print('Misclassified training samples: %d' %(y_train!=y_train_pred).sum()) \n",
    "print('Misclassified test samples: %d' %(y_test!=y_test_pred).sum()) "
   ]
  },
  {
   "cell_type": "code",
   "execution_count": 56,
   "metadata": {},
   "outputs": [
    {
     "name": "stdout",
     "output_type": "stream",
     "text": [
      "0.9777777777777777\n"
     ]
    }
   ],
   "source": [
    "from sklearn.metrics import accuracy_score    \n",
    "print(accuracy_score(y_test,y_test_pred))"
   ]
  },
  {
   "cell_type": "code",
   "execution_count": 57,
   "metadata": {},
   "outputs": [
    {
     "name": "stdout",
     "output_type": "stream",
     "text": [
      "[[21  0  0  0  0  0  0  0  0  0  0  0  0  0  0  0  0  0  0  0  0  0]\n",
      " [ 0 23  0  0  0  0  0  0  0  0  0  0  0  0  0  0  0  0  0  0  0  0]\n",
      " [ 0  0 23  0  0  0  0  0  0  0  0  0  0  0  0  0  0  0  0  0  0  0]\n",
      " [ 0  0  0 21  0  0  0  0  0  0  0  0  0  0  0  0  0  0  0  0  0  0]\n",
      " [ 0  0  0  0 22  0  0  0  0  0  0  0  0  0  0  0  0  0  0  0  0  0]\n",
      " [ 0  0  0  0  0 22  0  0  0  0  0  0  0  0  0  0  0  0  0  0  0  0]\n",
      " [ 0  0  0  0  0  0 24  0  0  0  0  0  0  0  0  0  0  0  0  0  0  0]\n",
      " [ 0  0  0  0  0  0  0 24  0  0  0  0  0  0  0  0  0  0  0  0  0  0]\n",
      " [ 0  0  0  0  0  0  0  0 19  0  0  0  0  0  0  0  0  0  0  0  3  0]\n",
      " [ 0  0  0  0  0  0  0  0  0 23  0  0  0  0  0  0  0  0  0  0  0  0]\n",
      " [ 0  0  0  0  0  0  0  0  0  0 25  0  0  0  0  0  0  0  0  0  0  0]\n",
      " [ 0  0  0  0  0  0  1  0  0  0  0 22  0  0  0  0  0  0  0  0  0  0]\n",
      " [ 0  0  0  0  0  0  0  0  0  0  0  0 22  0  0  0  0  0  0  0  0  0]\n",
      " [ 0  0  0  0  0  0  0  0  0  0  0  0  0 22  0  0  0  0  0  0  0  0]\n",
      " [ 0  0  0  0  0  0  0  0  0  0  0  0  0  0 22  0  0  0  0  0  0  0]\n",
      " [ 0  0  0  0  0  0  0  0  0  0  0  0  0  0  0 23  0  0  0  0  0  0]\n",
      " [ 0  0  0  0  0  0  0  0  0  0  0  0  0  0  0  0 24  0  0  0  0  0]\n",
      " [ 0  0  0  0  0  0  0  0  0  0  0  0  0  0  0  0  0 21  0  0  0  0]\n",
      " [ 0  0  0  0  0  0  0  0  0  1  0  0  0  0  0  0  0  0 19  0  0  0]\n",
      " [ 0  0  0  0  0  0  0  0  0  0  0  0  0  0  0  0  0  0  0 21  0  0]\n",
      " [ 0  0  0  0  0  0  0  0  6  0  0  0  0  0  0  0  0  0  0  0 17  0]\n",
      " [ 0  0  0  0  0  0  0  0  0  0  0  0  0  0  0  0  0  0  0  0  0 24]]\n"
     ]
    }
   ],
   "source": [
    "from sklearn.metrics import confusion_matrix\n",
    "conf=confusion_matrix(y_true=y_test,y_pred=y_test_pred) \n",
    "print(conf)"
   ]
  },
  {
   "cell_type": "code",
   "execution_count": 58,
   "metadata": {},
   "outputs": [
    {
     "data": {
      "text/plain": [
       "<matplotlib.collections.PolyCollection at 0x7fab0252ca90>"
      ]
     },
     "execution_count": 58,
     "metadata": {},
     "output_type": "execute_result"
    },
    {
     "data": {
      "image/png": "[encoded data removed]",
      "text/plain": [
       "<Figure size 432x288 with 1 Axes>"
      ]
     },
     "metadata": {
      "needs_background": "light"
     },
     "output_type": "display_data"
    }
   ],
   "source": [
    "import matplotlib.pyplot as plt \n",
    "import numpy as np              \n",
    "xx=X['temperature'].values \n",
    "xx=xx.T.reshape(-1, 1) # reshape\n",
    "from sklearn.neighbors import KernelDensity\n",
    "kd=KernelDensity(bandwidth=0.2, kernel='gaussian')\n",
    "kd.fit(xx)\n",
    "xx_d = np.linspace(3, 9, 1000)\n",
    "logprob=kd.score_samples(xx_d.reshape(-1, 1)) \n",
    "plt.fill_between(xx_d, np.exp(logprob))"
   ]
  },
  {
   "cell_type": "code",
   "execution_count": 59,
   "metadata": {},
   "outputs": [
    {
     "data": {
      "text/plain": [
       "<matplotlib.collections.PolyCollection at 0x7fab0217cee0>"
      ]
     },
     "execution_count": 59,
     "metadata": {},
     "output_type": "execute_result"
    },
    {
     "data": {
      "image/png": "[encoded data removed]",
      "text/plain": [
       "<Figure size 432x288 with 1 Axes>"
      ]
     },
     "metadata": {
      "needs_background": "light"
     },
     "output_type": "display_data"
    }
   ],
   "source": [
    "import matplotlib.pyplot as plt \n",
    "import numpy as np              \n",
    "xx=X['humidity'].values \n",
    "xx=xx.T.reshape(-1, 1) # reshape\n",
    "from sklearn.neighbors import KernelDensity\n",
    "kd=KernelDensity(bandwidth=0.2, kernel='gaussian')\n",
    "kd.fit(xx)\n",
    "xx_d = np.linspace(3, 9, 1000)\n",
    "logprob=kd.score_samples(xx_d.reshape(-1, 1)) \n",
    "plt.fill_between(xx_d, np.exp(logprob))"
   ]
  },
  {
   "cell_type": "code",
   "execution_count": 60,
   "metadata": {},
   "outputs": [
    {
     "data": {
      "text/plain": [
       "<matplotlib.collections.PolyCollection at 0x7fab024a38e0>"
      ]
     },
     "execution_count": 60,
     "metadata": {},
     "output_type": "execute_result"
    },
    {
     "data": {
      "image/png": "[encoded data removed]",
      "text/plain": [
       "<Figure size 432x288 with 1 Axes>"
      ]
     },
     "metadata": {
      "needs_background": "light"
     },
     "output_type": "display_data"
    }
   ],
   "source": [
    "import matplotlib.pyplot as plt \n",
    "import numpy as np              \n",
    "xx=X['ph'].values \n",
    "xx=xx.T.reshape(-1, 1) # reshape\n",
    "from sklearn.neighbors import KernelDensity\n",
    "kd=KernelDensity(bandwidth=0.2, kernel='gaussian')\n",
    "kd.fit(xx)\n",
    "xx_d = np.linspace(3, 9, 1000)\n",
    "logprob=kd.score_samples(xx_d.reshape(-1, 1)) \n",
    "plt.fill_between(xx_d, np.exp(logprob))"
   ]
  },
  {
   "cell_type": "code",
   "execution_count": 61,
   "metadata": {},
   "outputs": [
    {
     "data": {
      "text/plain": [
       "<matplotlib.collections.PolyCollection at 0x7fab0259a580>"
      ]
     },
     "execution_count": 61,
     "metadata": {},
     "output_type": "execute_result"
    },
    {
     "data": {
      "image/png": "[encoded data removed]",
      "text/plain": [
       "<Figure size 432x288 with 1 Axes>"
      ]
     },
     "metadata": {
      "needs_background": "light"
     },
     "output_type": "display_data"
    }
   ],
   "source": [
    "import matplotlib.pyplot as plt \n",
    "import numpy as np              \n",
    "xx=X['rainfall'].values \n",
    "xx=xx.T.reshape(-1, 1) # reshape\n",
    "from sklearn.neighbors import KernelDensity\n",
    "kd=KernelDensity(bandwidth=0.2, kernel='gaussian')\n",
    "kd.fit(xx)\n",
    "xx_d = np.linspace(3, 9, 1000)\n",
    "logprob=kd.score_samples(xx_d.reshape(-1, 1)) \n",
    "plt.fill_between(xx_d, np.exp(logprob))"
   ]
  },
  {
   "cell_type": "markdown",
   "metadata": {},
   "source": [
    "---\n",
    "#  전체 코드 및 SAMPLE 데이터 학습"
   ]
  },
  {
   "cell_type": "code",
   "execution_count": 63,
   "metadata": {},
   "outputs": [],
   "source": [
    "#X_train = train.drop(['label'], axis =1)\n",
    "#X_test = test\n",
    "#y_train = train['label']\n",
    "\n",
    "#knn.fit(X_train, y_train)\n",
    "y_test_pred = knn.predict(X_test)\n",
    "\n",
    "sample['label']=y_test_pred\n",
    "sample.to_csv('complete_croptype.csv', index=False)"
   ]
  }
 ],
 "metadata": {
  "kernelspec": {
   "display_name": "Python 3",
   "language": "python",
   "name": "python3"
  },
  "language_info": {
   "codemirror_mode": {
    "name": "ipython",
    "version": 3
   },
   "file_extension": ".py",
   "mimetype": "text/x-python",
   "name": "python",
   "nbconvert_exporter": "python",
   "pygments_lexer": "ipython3",
   "version": "3.8.5"
  }
 },
 "nbformat": 4,
 "nbformat_minor": 4
}
