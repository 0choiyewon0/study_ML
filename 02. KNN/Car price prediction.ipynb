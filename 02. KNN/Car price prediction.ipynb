{
 "cells": [
  {
   "cell_type": "markdown",
   "metadata": {},
   "source": [
    "---\n",
    "\n",
    "# 재배환경 별 작물 종류 예측\n",
    "\n",
    "1. 문제 설명\n",
    "\n",
    "    - 해당 데이터 셋은 중고 차량에 대한 가격, 변속기, 마일리지, 연료 유형, 도로세, 갤런당 마일리지(mpg), 제조회사 및 엔진 크기 등을 확인할 수 있습니다.\n",
    "위에 언급한 차량의 정보들(제조회사, 엔진크기, 변속기 등)을 통하여 해당 차량의 가격을 예측하는 것이 해당 실습의 목표입니다.\n",
    "참고1) 대부분의 항목들이 데이터 실수화가 되어있지만, 일부 항목은 데이터 실수화가 되어있지 않습니다. sklearn에서 제공하는 LabelEncoder 함수를 통해 데이터 실수화를 진행하신 다음, 수업시간에 배운 기계학습 방법론을 통해 문제를 풀으시면 됩니다. (LabelEncoder documentation)\n",
    "참고2) 만약 자신의 예측값과 베이스라인의 성능 차이가 크게 날 경우, 수업시간에 배운 전처리 기법(데이터 변환 부분 참고)을 잘 사용하여 모델을 다시 학습시켜보세요.\n",
    "\n",
    "\n",
    "2. 데이터 셋 구성\n",
    "    - company - 자동차 제조 회사를 의미하며, 총 5개(bmw, ford, hyundai, audi, toyota)의 회사로 구성되어있습니다.\n",
    "    - model - 해당 차량의 제품명(모델)을 의미합니다.\n",
    "    - year - 해당 차량의 제조년도를 의미합니다.\n",
    "    - transmission - 해당 차량의 변속기를 의미합니다.\n",
    "    - mileage - 해당 차량의 마일리지를 의미합니다.\n",
    "    - fueltype - 해당 차량의 연료 유형을 의미합니다.\n",
    "    - tax - 해당 차량의 세금을 의미합니다.\n",
    "    - mpg - 해당 차량의 마일 당 갤런 사용량(연비)를 의미합니다.\n",
    "    - enginesize - 해당 차량의 엔진 크기를 의미합니다. 10 price - 해당 차량의 가격을 의미합니다."
   ]
  },
  {
   "cell_type": "markdown",
   "metadata": {},
   "source": [
    "---\n",
    "# sample, train, test 데이터 불러오고 형태 파악\n",
    "\n",
    "- test, train 데이터 불러오기\n",
    "- train데이터에서 정답인 label값을 y로 학습을 통해 훈련시킬 label을 제외한 값을 X로 지정"
   ]
  },
  {
   "cell_type": "code",
   "execution_count": 4,
   "metadata": {
    "scrolled": true
   },
   "outputs": [
    {
     "name": "stdout",
     "output_type": "stream",
     "text": [
      "(34170, 11)\n",
      "(16831, 10)\n",
      "   ID  company      model  year  transmission  mileage  fueltype  tax   mpg  \\\n",
      "0   0        4      Auris  2015             1    47541         4  145  46.3   \n",
      "1   1        0         X2  2018             3     5000         0  145  50.4   \n",
      "2   2        2      Focus  2017             3    47018         4  145  51.4   \n",
      "3   3        2      Focus  2020             1     1550         4  145  49.6   \n",
      "4   4        0   3 Series  2017             3    23505         0  145  64.2   \n",
      "\n",
      "   engineSize  price  \n",
      "0         1.6   8095  \n",
      "1         2.0  21726  \n",
      "2         1.0  10490  \n",
      "3         1.0  17490  \n",
      "4         2.0  18995  \n",
      "   ID  company      model  year  transmission  mileage  fueltype  tax   mpg  \\\n",
      "0   0        2        Ka+  2017             1    10150         4  145  57.7   \n",
      "1   1        2       Kuga  2013             1    50216         0  145  53.3   \n",
      "2   2        3         Q5  2016             1    34189         0  200  47.9   \n",
      "3   3        1        I10  2020             1     1900         4  145  56.5   \n",
      "4   4        0   3 Series  2014             0    79809         0   20  68.9   \n",
      "\n",
      "   engineSize  \n",
      "0         1.2  \n",
      "1         2.0  \n",
      "2         2.0  \n",
      "3         1.0  \n",
      "4         2.0  \n"
     ]
    }
   ],
   "source": [
    "import pandas as pd\n",
    "sample = pd.read_csv(\"sample_carprice.csv\" , engine='python')\n",
    "train = pd.read_csv(\"train_carprice.csv\" , engine='python')\n",
    "test = pd.read_csv(\"test_carprice.csv\" , engine='python')\n",
    "\n",
    "print(train.shape)\n",
    "print(test.shape)\n",
    "\n",
    "print(train.head())\n",
    "print(test.head())"
   ]
  },
  {
   "cell_type": "code",
   "execution_count": 6,
   "metadata": {},
   "outputs": [
    {
     "name": "stdout",
     "output_type": "stream",
     "text": [
      "(34170, 11)\n",
      "(34170, 10)\n",
      "(34170,)\n"
     ]
    }
   ],
   "source": [
    "print(train.shape)\n",
    "X = train.drop('price', axis=1)\n",
    "y = train['price']\n",
    "print(X.shape)\n",
    "print(y.shape)"
   ]
  },
  {
   "cell_type": "markdown",
   "metadata": {},
   "source": [
    "---\n",
    "# 데이터 카테고리의 실수화 진행\n",
    "\n",
    "- model 카테고리가 범수형 이므로 LabelEncoder 클래스 사용"
   ]
  },
  {
   "cell_type": "code",
   "execution_count": 22,
   "metadata": {},
   "outputs": [],
   "source": [
    "from sklearn.preprocessing import LabelEncoder\n",
    "import numpy as np\n",
    "\n",
    "classle = LabelEncoder()\n",
    "\n",
    "train['model'] = classle.fit_transform(train['model'])\n",
    "test['model'] = classle.fit_transform(test['model'])"
   ]
  },
  {
   "cell_type": "markdown",
   "metadata": {},
   "source": [
    "---\n",
    "# 불필요한 정보 제거"
   ]
  },
  {
   "cell_type": "code",
   "execution_count": 23,
   "metadata": {},
   "outputs": [],
   "source": [
    "X_train = train.drop(['ID', 'price'], axis=1)\n",
    "X_test = test.drop(['ID'], axis =1)\n",
    "y_train = train['price']"
   ]
  },
  {
   "cell_type": "markdown",
   "metadata": {},
   "source": [
    "# 데이터 분할을 통해 train, test 분할\n",
    "\n",
    "-  train_test_split을 통하여 default 구성으로 분류\n",
    "- 분류 후 분류된 형태 출력 및 확인\n"
   ]
  },
  {
   "cell_type": "code",
   "execution_count": 25,
   "metadata": {},
   "outputs": [
    {
     "data": {
      "text/plain": [
       "'from sklearn.model_selection import train_test_split\\n\\nX_train, X_test, y_train, y_test = train_test_split(X,y, test_size=0.3, random_state=1, stratify=y)  \\n\\nprint(X_train.shape)\\nprint(X_test.shape)\\nprint(y_train.shape)\\nprint(y_test.shape)'"
      ]
     },
     "execution_count": 25,
     "metadata": {},
     "output_type": "execute_result"
    }
   ],
   "source": [
    "'''from sklearn.model_selection import train_test_split\n",
    "\n",
    "X_train, X_test, y_train, y_test = train_test_split(X,y, test_size=0.3, random_state=1, stratify=y)  \n",
    "\n",
    "print(X_train.shape)\n",
    "print(X_test.shape)\n",
    "print(y_train.shape)\n",
    "print(y_test.shape)'''\n",
    "\n"
   ]
  },
  {
   "cell_type": "markdown",
   "metadata": {},
   "source": [
    "---\n",
    "# 데이터 표준화"
   ]
  },
  {
   "cell_type": "code",
   "execution_count": 26,
   "metadata": {},
   "outputs": [],
   "source": [
    "from sklearn.preprocessing import StandardScaler\n",
    "\n",
    "sc = StandardScaler()\n",
    "\n",
    "X_train_std = sc.fit_transform(X_train)\n",
    "X_test_std = sc.transform(X_test)\n",
    "\n",
    "\n"
   ]
  },
  {
   "cell_type": "markdown",
   "metadata": {},
   "source": [
    "---\n",
    "# 모델 추정 및 사례중심 학습"
   ]
  },
  {
   "cell_type": "code",
   "execution_count": 34,
   "metadata": {},
   "outputs": [
    {
     "data": {
      "text/plain": [
       "KNeighborsClassifier()"
      ]
     },
     "execution_count": 34,
     "metadata": {},
     "output_type": "execute_result"
    }
   ],
   "source": [
    "from sklearn.neighbors import KNeighborsClassifier\n",
    "knn =KNeighborsClassifier()\n",
    "knn.fit(X_train_std, y_train)"
   ]
  },
  {
   "cell_type": "code",
   "execution_count": 31,
   "metadata": {},
   "outputs": [],
   "source": [
    "y_test_pred = knn.predict(X_test_std)"
   ]
  },
  {
   "cell_type": "code",
   "execution_count": 36,
   "metadata": {},
   "outputs": [],
   "source": [
    "sample['price'] = y_test_pred\n",
    "\n",
    "sample.to_csv('complete_carprice')"
   ]
  },
  {
   "cell_type": "code",
   "execution_count": null,
   "metadata": {},
   "outputs": [],
   "source": []
  }
 ],
 "metadata": {
  "kernelspec": {
   "display_name": "Python 3",
   "language": "python",
   "name": "python3"
  },
  "language_info": {
   "codemirror_mode": {
    "name": "ipython",
    "version": 3
   },
   "file_extension": ".py",
   "mimetype": "text/x-python",
   "name": "python",
   "nbconvert_exporter": "python",
   "pygments_lexer": "ipython3",
   "version": "3.8.5"
  }
 },
 "nbformat": 4,
 "nbformat_minor": 4
}
